{
  "nbformat": 4,
  "nbformat_minor": 0,
  "metadata": {
    "colab": {
      "provenance": [],
      "gpuType": "T4",
      "mount_file_id": "1mtwgPAx_0_sH-ObM7SbAAdR8Hc6G5_Y1",
      "authorship_tag": "ABX9TyOmXGTsXv8N1Xj+edrCFFul",
      "include_colab_link": true
    },
    "kernelspec": {
      "name": "python3",
      "display_name": "Python 3"
    },
    "language_info": {
      "name": "python"
    },
    "accelerator": "GPU"
  },
  "cells": [
    {
      "cell_type": "markdown",
      "metadata": {
        "id": "view-in-github",
        "colab_type": "text"
      },
      "source": [
        "<a href=\"https://colab.research.google.com/github/jideilori/football_analytics/blob/main/football_analytics.ipynb\" target=\"_parent\"><img src=\"https://colab.research.google.com/assets/colab-badge.svg\" alt=\"Open In Colab\"/></a>"
      ]
    },
    {
      "cell_type": "code",
      "execution_count": null,
      "metadata": {
        "colab": {
          "base_uri": "https://localhost:8080/"
        },
        "id": "loVWqzMS7AKl",
        "outputId": "c97fd049-dce0-4964-e603-1e8678e2d508"
      },
      "outputs": [
        {
          "output_type": "stream",
          "name": "stdout",
          "text": [
            "Cloning into 'football_analytics'...\n",
            "remote: Enumerating objects: 19, done.\u001b[K\n",
            "remote: Counting objects: 100% (19/19), done.\u001b[K\n",
            "remote: Compressing objects: 100% (15/15), done.\u001b[K\n",
            "remote: Total 19 (delta 1), reused 15 (delta 1), pack-reused 0\u001b[K\n",
            "Receiving objects: 100% (19/19), 26.29 KiB | 8.76 MiB/s, done.\n",
            "Resolving deltas: 100% (1/1), done.\n"
          ]
        }
      ],
      "source": [
        "!git clone https://github.com/jideilori/football_analytics"
      ]
    },
    {
      "cell_type": "code",
      "source": [
        "%cd football_analytics"
      ],
      "metadata": {
        "colab": {
          "base_uri": "https://localhost:8080/"
        },
        "id": "xPM417C17Jn6",
        "outputId": "ef5e1735-7a67-48e1-9e40-fc899332638b"
      },
      "execution_count": null,
      "outputs": [
        {
          "output_type": "stream",
          "name": "stdout",
          "text": [
            "/content/football_analytics\n"
          ]
        }
      ]
    },
    {
      "cell_type": "markdown",
      "source": [
        "## Download video and model files to their respective folders"
      ],
      "metadata": {
        "id": "m_7Bki117M05"
      }
    },
    {
      "cell_type": "code",
      "source": [
        "!gdown --id 1a8K45wT-1-h-wZ9X3R_LHfL680xRtIkQ -O /content/football_analytics/video/case_study_video.mov"
      ],
      "metadata": {
        "colab": {
          "base_uri": "https://localhost:8080/"
        },
        "id": "e1wnBl7t7Lwj",
        "outputId": "c8d9a975-abe3-49b4-ef46-a03184252a4d"
      },
      "execution_count": null,
      "outputs": [
        {
          "output_type": "stream",
          "name": "stdout",
          "text": [
            "/usr/local/lib/python3.10/dist-packages/gdown/__main__.py:132: FutureWarning: Option `--id` was deprecated in version 4.3.1 and will be removed in 5.0. You don't need to pass it anymore to use a file ID.\n",
            "  warnings.warn(\n",
            "Downloading...\n",
            "From (original): https://drive.google.com/uc?id=1a8K45wT-1-h-wZ9X3R_LHfL680xRtIkQ\n",
            "From (redirected): https://drive.google.com/uc?id=1a8K45wT-1-h-wZ9X3R_LHfL680xRtIkQ&confirm=t&uuid=bc6cab88-8a58-4df3-8302-2288dc2beb0a\n",
            "To: /content/football_analytics/video/case_study_video.mov\n",
            "100% 128M/128M [00:07<00:00, 16.5MB/s]\n"
          ]
        }
      ]
    },
    {
      "cell_type": "code",
      "source": [
        "!gdown --id 1DC2kCygbBWUKheQ_9cFziCsYVSRw6axK -O /content/football_analytics/models/football.pt"
      ],
      "metadata": {
        "colab": {
          "base_uri": "https://localhost:8080/"
        },
        "id": "WpGWLei67uQz",
        "outputId": "d76a4d64-7964-4591-fcbe-3be12e26f95a"
      },
      "execution_count": null,
      "outputs": [
        {
          "output_type": "stream",
          "name": "stdout",
          "text": [
            "/usr/local/lib/python3.10/dist-packages/gdown/__main__.py:132: FutureWarning: Option `--id` was deprecated in version 4.3.1 and will be removed in 5.0. You don't need to pass it anymore to use a file ID.\n",
            "  warnings.warn(\n",
            "Downloading...\n",
            "From (original): https://drive.google.com/uc?id=1DC2kCygbBWUKheQ_9cFziCsYVSRw6axK\n",
            "From (redirected): https://drive.google.com/uc?id=1DC2kCygbBWUKheQ_9cFziCsYVSRw6axK&confirm=t&uuid=22fb077b-3763-446b-ae48-a2921563c04c\n",
            "To: /content/football_analytics/models/football.pt\n",
            "100% 173M/173M [00:08<00:00, 20.4MB/s]\n"
          ]
        }
      ]
    },
    {
      "cell_type": "markdown",
      "source": [
        "## Run program"
      ],
      "metadata": {
        "id": "iLPID_WL-WT4"
      }
    },
    {
      "cell_type": "code",
      "source": [
        "!pip install ultralytics supervision -q"
      ],
      "metadata": {
        "colab": {
          "base_uri": "https://localhost:8080/"
        },
        "id": "Mpe_lTQn-0rr",
        "outputId": "293b3f2d-7e39-4217-d71b-1dc524284a62"
      },
      "execution_count": null,
      "outputs": [
        {
          "output_type": "stream",
          "name": "stdout",
          "text": [
            "\u001b[?25l     \u001b[90m━━━━━━━━━━━━━━━━━━━━━━━━━━━━━━━━━━━━━━━━\u001b[0m \u001b[32m0.0/778.7 kB\u001b[0m \u001b[31m?\u001b[0m eta \u001b[36m-:--:--\u001b[0m\r\u001b[2K     \u001b[91m━━━━━━━━━━━━━━━━━━━━━\u001b[0m\u001b[90m╺\u001b[0m\u001b[90m━━━━━━━━━━━━━━━━━━\u001b[0m \u001b[32m409.6/778.7 kB\u001b[0m \u001b[31m12.2 MB/s\u001b[0m eta \u001b[36m0:00:01\u001b[0m\r\u001b[2K     \u001b[90m━━━━━━━━━━━━━━━━━━━━━━━━━━━━━━━━━━━━━━━━\u001b[0m \u001b[32m778.7/778.7 kB\u001b[0m \u001b[31m16.2 MB/s\u001b[0m eta \u001b[36m0:00:00\u001b[0m\n",
            "\u001b[2K     \u001b[90m━━━━━━━━━━━━━━━━━━━━━━━━━━━━━━━━━━━━━━━━\u001b[0m \u001b[32m111.0/111.0 kB\u001b[0m \u001b[31m17.3 MB/s\u001b[0m eta \u001b[36m0:00:00\u001b[0m\n",
            "\u001b[2K     \u001b[90m━━━━━━━━━━━━━━━━━━━━━━━━━━━━━━━━━━━━━━━━\u001b[0m \u001b[32m21.3/21.3 MB\u001b[0m \u001b[31m48.4 MB/s\u001b[0m eta \u001b[36m0:00:00\u001b[0m\n",
            "\u001b[?25h"
          ]
        }
      ]
    },
    {
      "cell_type": "code",
      "source": [
        "from utils.video import  SaveVideo, frame_generator\n",
        "import cv2\n",
        "from utils.my_tracker import Tracker\n",
        "from utils.assign_teams import TeamAssigner\n",
        "\n",
        "\n",
        "fourcc = cv2.VideoWriter_fourcc(*'XVID')\n",
        "out = cv2.VideoWriter('video/result_output.avi', fourcc, 25, (1280, 720))\n",
        "\n",
        "def main():\n",
        "\n",
        "    video_path = 'video/case_study_video.mov'\n",
        "    tracker = Tracker('models/football.pt')\n",
        "\n",
        "    # Using the generator to get batches of frames\n",
        "    frame_gen = frame_generator(video_path)\n",
        "\n",
        "    frame_num = 0\n",
        "    for bs,frame_batch in enumerate(frame_gen):\n",
        "        for img in frame_batch:\n",
        "            try:\n",
        "                frame,tracks = tracker.get_object_tracks(img,frame_num,\n",
        "                                                    read_from_stub=False,\n",
        "                                                stub_path='models/track_stubs.pkl')\n",
        "                frame_num = frame_num + 1\n",
        "            except:\n",
        "                pass\n",
        "            # save frame\n",
        "            out.write(frame)\n",
        "            if cv2.waitKey(1) & 0xFF == ord('q'):\n",
        "                break\n",
        "\n",
        "    # out.release()\n",
        "\n",
        "if __name__=='__main__':\n",
        "    main()"
      ],
      "metadata": {
        "id": "KKSRTzmK-eNW"
      },
      "execution_count": null,
      "outputs": []
    },
    {
      "cell_type": "code",
      "source": [
        "!cp /content/football_analytics/video/result_output.avi /content/drive/MyDrive/football_analysis"
      ],
      "metadata": {
        "id": "kHawTeCn-Ycy"
      },
      "execution_count": null,
      "outputs": []
    },
    {
      "cell_type": "code",
      "source": [
        "!cp /content/football_analytics/result_data.csv /content/drive/MyDrive/football_analysis"
      ],
      "metadata": {
        "id": "Cy0lZ71i-YFl"
      },
      "execution_count": null,
      "outputs": []
    },
    {
      "cell_type": "code",
      "source": [],
      "metadata": {
        "id": "0tfytAjj-bL9"
      },
      "execution_count": null,
      "outputs": []
    }
  ]
}